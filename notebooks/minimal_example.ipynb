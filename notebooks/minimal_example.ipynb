version https://git-lfs.github.com/spec/v1
oid sha256:1e2c0f6b628bdb918dc53693f85be281297c6c2abc81b43764e85e1b22de3d6c
size 1191164
